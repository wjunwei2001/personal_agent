{
 "cells": [
  {
   "cell_type": "code",
   "execution_count": 4,
   "id": "54bcc56f",
   "metadata": {},
   "outputs": [
    {
     "data": {
      "text/plain": [
       "True"
      ]
     },
     "execution_count": 4,
     "metadata": {},
     "output_type": "execute_result"
    }
   ],
   "source": [
    "from dotenv import load_dotenv\n",
    "load_dotenv()"
   ]
  },
  {
   "cell_type": "code",
   "execution_count": 5,
   "id": "42b69e18",
   "metadata": {},
   "outputs": [],
   "source": [
    "from typing import Literal\n",
    "from datetime import datetime\n",
    "from pydantic import BaseModel, Field\n",
    "from langchain_core.tools import tool\n",
    "\n",
    "@tool\n",
    "def write_email(to: str, subject: str, content: str) -> str:\n",
    "    \"\"\"Write an email to the given recipient with the given subject and content.\"\"\"\n",
    "    return f\"Email sent to {to} with subject {subject} and content: {content}\"\n",
    "\n",
    "@tool\n",
    "def schedule_meeting(attendees: list[str], subject: str, duration_minutes: int, preferred_day: datetime, start_time: int) -> str:\n",
    "    \"\"\"Schedule a meeting\"\"\"\n",
    "    date_str = preferred_day.strftime(\"%A, %B %d, %Y\")\n",
    "    return f\"Meeting '{subject}' scheduled for {date_str} from {start_time}:00 to {start_time + duration_minutes // 60}:{duration_minutes % 60} with {attendees}\"\n",
    "\n",
    "\n",
    "@tool\n",
    "def check_calendar_availability(day: str) -> str:\n",
    "    \"\"\"Check the availability of the calendar on the given day\"\"\"\n",
    "    return f\"Available slots on {day}: 9:00AM, 2:00PM, 4:00PM\"\n",
    "\n",
    "@tool\n",
    "class Done(BaseModel):\n",
    "    done: bool"
   ]
  },
  {
   "cell_type": "code",
   "execution_count": 6,
   "id": "a02fcecb",
   "metadata": {},
   "outputs": [],
   "source": [
    "# Triaging router\n",
    "from langgraph.graph import MessagesState\n",
    "\n",
    "\n",
    "class State(MessagesState):\n",
    "    email_input: dict\n",
    "    classification_decision: Literal[\"ignore\", \"respond\", \"notify\"]"
   ]
  },
  {
   "cell_type": "code",
   "execution_count": 1,
   "id": "4da645a3",
   "metadata": {},
   "outputs": [],
   "source": [
    "from pydantic import BaseModel, Field\n",
    "from src.personal_agent.prompts import triage_system_prompt, triage_user_prompt, default_triage_instructions, default_background\n",
    "from src.personal_agent.utils import parse_email, format_email_markdown\n",
    "from langchain.chat_models import init_chat_model\n",
    "from langgraph.graph import END\n",
    "from langgraph.types import Command\n"
   ]
  },
  {
   "cell_type": "code",
   "execution_count": 2,
   "id": "15830cc7",
   "metadata": {},
   "outputs": [
    {
     "data": {
      "text/html": [
       "<pre style=\"white-space:pre;overflow-x:auto;line-height:normal;font-family:Menlo,'DejaVu Sans Mono',consolas,'Courier New',monospace\">&lt; Role &gt; Your role is to triage incoming emails based upon instructs and background information below. &lt;/ Role &gt;   \n",
       "\n",
       "&lt; Background &gt; {background}. &lt;/ Background &gt;                                                                       \n",
       "\n",
       "&lt; Instructions &gt; Categorize each email into one of three categories:                                               \n",
       "\n",
       "<span style=\"color: #808000; text-decoration-color: #808000; font-weight: bold\"> 1 </span>IGNORE - Emails that are not worth responding to or tracking                                                    \n",
       "<span style=\"color: #808000; text-decoration-color: #808000; font-weight: bold\"> 2 </span>NOTIFY - Important information that worth notification but doesn't require a response                           \n",
       "<span style=\"color: #808000; text-decoration-color: #808000; font-weight: bold\"> 3 </span>RESPOND - Emails that need a direct response Classify the below email into one of these categories. &lt;/          \n",
       "<span style=\"color: #808000; text-decoration-color: #808000; font-weight: bold\">   </span>Instructions &gt;                                                                                                  \n",
       "\n",
       "&lt; Rules &gt; {triage_instructions} &lt;/ Rules &gt;                                                                         \n",
       "</pre>\n"
      ],
      "text/plain": [
       "< Role > Your role is to triage incoming emails based upon instructs and background information below. </ Role >   \n",
       "\n",
       "< Background > {background}. </ Background >                                                                       \n",
       "\n",
       "< Instructions > Categorize each email into one of three categories:                                               \n",
       "\n",
       "\u001b[1;33m 1 \u001b[0mIGNORE - Emails that are not worth responding to or tracking                                                    \n",
       "\u001b[1;33m 2 \u001b[0mNOTIFY - Important information that worth notification but doesn't require a response                           \n",
       "\u001b[1;33m 3 \u001b[0mRESPOND - Emails that need a direct response Classify the below email into one of these categories. </          \n",
       "\u001b[1;33m   \u001b[0mInstructions >                                                                                                  \n",
       "\n",
       "< Rules > {triage_instructions} </ Rules >                                                                         \n"
      ]
     },
     "execution_count": 2,
     "metadata": {},
     "output_type": "execute_result"
    }
   ],
   "source": [
    "from rich.markdown import Markdown\n",
    "Markdown(triage_system_prompt)"
   ]
  },
  {
   "cell_type": "code",
   "execution_count": null,
   "id": "f7a23222",
   "metadata": {},
   "outputs": [
    {
     "ename": "SyntaxError",
     "evalue": "invalid syntax (2714235268.py, line 37)",
     "output_type": "error",
     "traceback": [
      "  \u001b[36mCell\u001b[39m\u001b[36m \u001b[39m\u001b[32mIn[3]\u001b[39m\u001b[32m, line 37\u001b[39m\n\u001b[31m    \u001b[39m\u001b[31m\"role\": \"user\",\u001b[39m\n          ^\n\u001b[31mSyntaxError\u001b[39m\u001b[31m:\u001b[39m invalid syntax\n"
     ]
    }
   ],
   "source": [
    "class RouterSchema(BaseModel):\n",
    "    \"\"\"Schema for the router\"\"\"\n",
    "    reasoning: str = Field(description=\"Step by step reasoning for the classification decision\")\n",
    "\n",
    "    classification: Literal[\"ignore\", \"respond\", \"notify\"] = Field(\n",
    "        description=\"The classification of an email: 'ignore' for irrelevant emails, 'respond' for emails that need a reply and 'notify' for important information that doesn't need a response\")\n",
    "\n",
    "llm = init_chat_model(model=\"gpt-4o-mini\", temperature=0)\n",
    "llm_router = llm.with_structured_output(RouterSchema)\n",
    "\n",
    "def triage_router(state: State) -> Command[Literal[\"response_agent\", \"__end__\"]]:\n",
    "    \"\"\"Analyze the email and decide whether to ignore, respond or notify\"\"\"\n",
    "    author, to, subject, email_thread = parse_email(state[\"email_input\"])\n",
    "    system_prompt = triage_system_prompt.format(\n",
    "        background=default_background,\n",
    "        triage_instructions=default_triage_instructions\n",
    "    )\n",
    "    user_prompt = triage_user_prompt.format(\n",
    "        email_input=format_email_markdown(subject, author, to, email_thread)\n",
    "    )\n",
    "    messages = [\n",
    "        {\"role\": \"system\", \"content\": system_prompt},\n",
    "        {\"role\": \"user\", \"content\": user_prompt}\n",
    "    ]\n",
    "\n",
    "    response = llm_router.invoke(messages)\n",
    "\n",
    "    if response.classification == \"ignore\":\n",
    "        print(\"Classification: IGNORE. This email will be ignored.\")\n",
    "        goto = END\n",
    "        update = {'classification_decision': 'ignore'}\n",
    "    elif response.classification == \"respond\":\n",
    "        print(\"Classification: RESPOND. This email will be replied to.\")\n",
    "        goto = \"response_agent\"\n",
    "        update = {\n",
    "            messages: [\n",
    "                \"role\": \"user\",\n",
    "                \"content\": f\"Respond to the following email: {format_email_markdown(subject, author, to, email_thread)}\"\n",
    "            ],\n",
    "            classification_decision: \"respond\"\n",
    "        }\n",
    "    elif response.classification == \"notify\":\n",
    "        print(\"Classification: NOTIFY. This email will be notified.\")\n",
    "        goto = END\n",
    "        update = {\n",
    "            classification_decision: \"notify\"\n",
    "        }\n",
    "    else:\n",
    "        raise ValueError(\"Invalid classification\")\n",
    "    return Command(goto=goto, update=update)"
   ]
  },
  {
   "cell_type": "code",
   "execution_count": null,
   "id": "94e9d120",
   "metadata": {},
   "outputs": [],
   "source": []
  }
 ],
 "metadata": {
  "kernelspec": {
   "display_name": ".venv",
   "language": "python",
   "name": "python3"
  },
  "language_info": {
   "codemirror_mode": {
    "name": "ipython",
    "version": 3
   },
   "file_extension": ".py",
   "mimetype": "text/x-python",
   "name": "python",
   "nbconvert_exporter": "python",
   "pygments_lexer": "ipython3",
   "version": "3.12.7"
  }
 },
 "nbformat": 4,
 "nbformat_minor": 5
}
