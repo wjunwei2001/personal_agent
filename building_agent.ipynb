{
 "cells": [
  {
   "cell_type": "code",
   "execution_count": 23,
   "id": "54bcc56f",
   "metadata": {},
   "outputs": [
    {
     "data": {
      "text/plain": [
       "True"
      ]
     },
     "execution_count": 23,
     "metadata": {},
     "output_type": "execute_result"
    }
   ],
   "source": [
    "from dotenv import load_dotenv\n",
    "load_dotenv()"
   ]
  },
  {
   "cell_type": "code",
   "execution_count": 24,
   "id": "42b69e18",
   "metadata": {},
   "outputs": [],
   "source": [
    "from typing import Literal\n",
    "from datetime import datetime\n",
    "from pydantic import BaseModel, Field\n",
    "from langchain_core.tools import tool\n",
    "\n",
    "@tool\n",
    "def write_email(to: str, subject: str, content: str) -> str:\n",
    "    \"\"\"Write an email to the given recipient with the given subject and content.\"\"\"\n",
    "    return f\"Email sent to {to} with subject {subject} and content: {content}\"\n",
    "\n",
    "@tool\n",
    "def schedule_meeting(attendees: list[str], subject: str, duration_minutes: int, preferred_day: datetime, start_time: int) -> str:\n",
    "    \"\"\"Schedule a meeting\"\"\"\n",
    "    date_str = preferred_day.strftime(\"%A, %B %d, %Y\")\n",
    "    return f\"Meeting '{subject}' scheduled for {date_str} from {start_time}:00 to {start_time + duration_minutes // 60}:{duration_minutes % 60} with {attendees}\"\n",
    "\n",
    "\n",
    "@tool\n",
    "def check_calendar_availability(day: str) -> str:\n",
    "    \"\"\"Check the availability of the calendar on the given day\"\"\"\n",
    "    return f\"Available slots on {day}: 9:00AM, 2:00PM, 4:00PM\"\n",
    "\n",
    "@tool\n",
    "class Done(BaseModel):\n",
    "    done: bool"
   ]
  },
  {
   "cell_type": "code",
   "execution_count": 25,
   "id": "a02fcecb",
   "metadata": {},
   "outputs": [],
   "source": [
    "# Triaging router\n",
    "from langgraph.graph import MessagesState\n",
    "\n",
    "\n",
    "class State(MessagesState):\n",
    "    email_input: dict\n",
    "    classification_decision: Literal[\"ignore\", \"respond\", \"notify\"]"
   ]
  },
  {
   "cell_type": "code",
   "execution_count": 26,
   "id": "4da645a3",
   "metadata": {},
   "outputs": [],
   "source": [
    "from pydantic import BaseModel, Field\n",
    "from src.personal_agent.prompts import triage_system_prompt, triage_user_prompt, default_triage_instructions, default_background\n",
    "from src.personal_agent.utils import parse_email, format_email_markdown\n",
    "from langchain.chat_models import init_chat_model\n",
    "from langgraph.graph import END\n",
    "from langgraph.types import Command\n"
   ]
  },
  {
   "cell_type": "code",
   "execution_count": 27,
   "id": "15830cc7",
   "metadata": {},
   "outputs": [
    {
     "data": {
      "text/html": [
       "<pre style=\"white-space:pre;overflow-x:auto;line-height:normal;font-family:Menlo,'DejaVu Sans Mono',consolas,'Courier New',monospace\">&lt; Role &gt; Your role is to triage incoming emails based upon instructs and background information below. &lt;/ Role &gt;   \n",
       "\n",
       "&lt; Background &gt; {background}. &lt;/ Background &gt;                                                                       \n",
       "\n",
       "&lt; Instructions &gt; Categorize each email into one of three categories:                                               \n",
       "\n",
       "<span style=\"color: #808000; text-decoration-color: #808000; font-weight: bold\"> 1 </span>IGNORE - Emails that are not worth responding to or tracking                                                    \n",
       "<span style=\"color: #808000; text-decoration-color: #808000; font-weight: bold\"> 2 </span>NOTIFY - Important information that worth notification but doesn't require a response                           \n",
       "<span style=\"color: #808000; text-decoration-color: #808000; font-weight: bold\"> 3 </span>RESPOND - Emails that need a direct response Classify the below email into one of these categories. &lt;/          \n",
       "<span style=\"color: #808000; text-decoration-color: #808000; font-weight: bold\">   </span>Instructions &gt;                                                                                                  \n",
       "\n",
       "&lt; Rules &gt; {triage_instructions} &lt;/ Rules &gt;                                                                         \n",
       "</pre>\n"
      ],
      "text/plain": [
       "< Role > Your role is to triage incoming emails based upon instructs and background information below. </ Role >   \n",
       "\n",
       "< Background > {background}. </ Background >                                                                       \n",
       "\n",
       "< Instructions > Categorize each email into one of three categories:                                               \n",
       "\n",
       "\u001b[1;33m 1 \u001b[0mIGNORE - Emails that are not worth responding to or tracking                                                    \n",
       "\u001b[1;33m 2 \u001b[0mNOTIFY - Important information that worth notification but doesn't require a response                           \n",
       "\u001b[1;33m 3 \u001b[0mRESPOND - Emails that need a direct response Classify the below email into one of these categories. </          \n",
       "\u001b[1;33m   \u001b[0mInstructions >                                                                                                  \n",
       "\n",
       "< Rules > {triage_instructions} </ Rules >                                                                         \n"
      ]
     },
     "execution_count": 27,
     "metadata": {},
     "output_type": "execute_result"
    }
   ],
   "source": [
    "from rich.markdown import Markdown\n",
    "Markdown(triage_system_prompt)"
   ]
  },
  {
   "cell_type": "code",
   "execution_count": 59,
   "id": "f7a23222",
   "metadata": {},
   "outputs": [],
   "source": [
    "class RouterSchema(BaseModel):\n",
    "    \"\"\"Schema for the router\"\"\"\n",
    "    reasoning: str = Field(description=\"Step by step reasoning for the classification decision\")\n",
    "\n",
    "    classification: Literal[\"ignore\", \"respond\", \"notify\"] = Field(\n",
    "        description=\"The classification of an email: 'ignore' for irrelevant emails, 'respond' for emails that need a reply and 'notify' for important information that doesn't need a response\")\n",
    "\n",
    "llm = init_chat_model(model=\"gpt-4o-mini\", temperature=0)\n",
    "llm_router = llm.with_structured_output(RouterSchema)\n",
    "\n",
    "def triage_router(state: State) -> Command[Literal[\"response_agent\", \"__end__\"]]:\n",
    "    \"\"\"Analyze the email and decide whether to ignore, respond or notify\"\"\"\n",
    "    author, to, subject, email_thread = parse_email(state[\"email_input\"])\n",
    "    system_prompt = triage_system_prompt.format(\n",
    "        background=default_background,\n",
    "        triage_instructions=default_triage_instructions\n",
    "    )\n",
    "    user_prompt = triage_user_prompt.format(\n",
    "        author=author,\n",
    "        to=to,\n",
    "        subject=subject,\n",
    "        email_thread=email_thread\n",
    "    )\n",
    "    messages = [\n",
    "        {\"role\": \"system\", \"content\": system_prompt},\n",
    "        {\"role\": \"user\", \"content\": user_prompt}\n",
    "    ]\n",
    "\n",
    "    response = llm_router.invoke(messages)\n",
    "\n",
    "    if response.classification == \"ignore\":\n",
    "        print(\"Classification: IGNORE. This email will be ignored.\")\n",
    "        goto = END\n",
    "        update = {\"classification_decision\": 'ignore'}\n",
    "    elif response.classification == \"respond\":\n",
    "        print(\"Classification: RESPOND. This email will be replied to.\")\n",
    "        goto = \"response_agent\"\n",
    "        update = {\n",
    "            messages: [\n",
    "                {\n",
    "                    \"role\": \"user\",\n",
    "                    \"content\": f\"Respond to the following email: {format_email_markdown(subject, author, to, email_thread)}\"\n",
    "                }\n",
    "            ],\n",
    "            \"classification_decision\": \"respond\"\n",
    "        }\n",
    "    elif response.classification == \"notify\":\n",
    "        print(\"Classification: NOTIFY. This email will be notified.\")\n",
    "        goto = END\n",
    "        update = {\n",
    "            \"classification_decision\": \"notify\"\n",
    "        }\n",
    "    else:\n",
    "        raise ValueError(\"Invalid classification\")\n",
    "    return Command(goto=goto, update=update)"
   ]
  },
  {
   "cell_type": "code",
   "execution_count": 60,
   "id": "94e9d120",
   "metadata": {},
   "outputs": [],
   "source": [
    "from src.personal_agent.prompts import agent_system_prompt, default_response_preferences, default_cal_preferences\n",
    "from src.personal_agent.tools.default.prompt_templates import AGENT_TOOLS_PROMPT"
   ]
  },
  {
   "cell_type": "code",
   "execution_count": 61,
   "id": "fe146db5",
   "metadata": {},
   "outputs": [],
   "source": [
    "tools = [write_email, schedule_meeting, check_calendar_availability]\n",
    "tools_by_name = {tool.name: tool for tool in tools}\n",
    "\n",
    "llm = init_chat_model(model=\"gpt-4o-mini\", temperature=0)\n",
    "llm_with_tools = llm.bind_tools(tools, tool_choice=\"any\")\n",
    "\n",
    "def llm_call(state: State):\n",
    "    \"\"\"LLM decides whether to call a tool or not\"\"\"\n",
    "\n",
    "    return {\n",
    "        \"messages\": [\n",
    "            llm_with_tools.invoke(\n",
    "                [\n",
    "                    {\"role\": \"system\", \"content\": agent_system_prompt.format(\n",
    "                        tools_prompt=AGENT_TOOLS_PROMPT,\n",
    "                        background=default_background,\n",
    "                        response_preferences=default_response_preferences,\n",
    "                        cal_preferences=default_cal_preferences\n",
    "                    )}\n",
    "                ]\n",
    "                + state[\"messages\"]\n",
    "            )\n",
    "        ]\n",
    "    }"
   ]
  },
  {
   "cell_type": "code",
   "execution_count": 62,
   "id": "8569b90b",
   "metadata": {},
   "outputs": [],
   "source": [
    "def tool_handler(state: State):\n",
    "    \"\"\"Handle the tool call\"\"\"\n",
    "\n",
    "    result = []\n",
    "\n",
    "    for tool_call in state[\"messages\"][-1].tool_calls:\n",
    "        tool = tools_by_name[tool_call[\"name\"]]\n",
    "        observation = tool.invoke(tool_call[\"args\"])\n",
    "        result.append(\n",
    "            {\n",
    "                \"role\": \"tool\",\n",
    "                \"content\": observation,\n",
    "                \"tool_call_id\": tool_call[\"id\"]\n",
    "            }\n",
    "        )\n",
    "    return {\"messages\": result}\n"
   ]
  },
  {
   "cell_type": "code",
   "execution_count": 63,
   "id": "10e70b51",
   "metadata": {},
   "outputs": [],
   "source": [
    "def should_continue(state: State) -> Literal[\"tool_handler\", \"__end__\"]:\n",
    "    \"\"\"Route to tool handler, or end if Done tool called.\"\"\"\n",
    "    \n",
    "    # Get the last message\n",
    "    messages = state[\"messages\"]\n",
    "    last_message = messages[-1]\n",
    "    \n",
    "    # Check if it's a Done tool call\n",
    "    if last_message.tool_calls:\n",
    "        for tool_call in last_message.tool_calls: \n",
    "            if tool_call[\"name\"] == \"Done\":\n",
    "                return END\n",
    "            else:\n",
    "                return \"tool_handler\""
   ]
  },
  {
   "cell_type": "code",
   "execution_count": 64,
   "id": "b54f2231",
   "metadata": {},
   "outputs": [],
   "source": [
    "from langgraph.graph import StateGraph, START, END\n",
    "from src.personal_agent.utils import show_graph\n",
    "\n",
    "# Build workflow\n",
    "overall_workflow = StateGraph(State)\n",
    "\n",
    "# Add nodes\n",
    "overall_workflow.add_node(\"llm_call\", llm_call)\n",
    "overall_workflow.add_node(\"tool_handler\", tool_handler)\n",
    "\n",
    "# Add edges\n",
    "overall_workflow.add_edge(START, \"llm_call\")\n",
    "overall_workflow.add_conditional_edges(\n",
    "    \"llm_call\",\n",
    "    should_continue,\n",
    "    {\n",
    "        \"tool_handler\": \"tool_handler\",\n",
    "        END: END,\n",
    "    },\n",
    ")\n",
    "overall_workflow.add_edge(\"tool_handler\", \"llm_call\")\n",
    "\n",
    "# Compile the agent\n",
    "agent = overall_workflow.compile()"
   ]
  },
  {
   "cell_type": "code",
   "execution_count": 65,
   "id": "76d2a9b5",
   "metadata": {},
   "outputs": [
    {
     "data": {
      "image/png": "[encoded data removed]",
      "text/plain": [
       "<IPython.core.display.Image object>"
      ]
     },
     "execution_count": 65,
     "metadata": {},
     "output_type": "execute_result"
    }
   ],
   "source": [
    "show_graph(agent)"
   ]
  },
  {
   "cell_type": "code",
   "execution_count": 66,
   "id": "e5da2d56",
   "metadata": {},
   "outputs": [],
   "source": [
    "overall_workflow = (\n",
    "    StateGraph(State)\n",
    "    .add_node(\"triage_router\", triage_router)\n",
    "    .add_node(\"response_agent\", agent)\n",
    "    .add_edge(START, \"triage_router\")\n",
    ").compile()"
   ]
  },
  {
   "cell_type": "code",
   "execution_count": 67,
   "id": "9ffec105",
   "metadata": {},
   "outputs": [
    {
     "data": {
      "image/jpeg": "[encoded data removed]",
      "text/plain": [
       "<IPython.core.display.Image object>"
      ]
     },
     "execution_count": 67,
     "metadata": {},
     "output_type": "execute_result"
    }
   ],
   "source": [
    "show_graph(overall_workflow)"
   ]
  },
  {
   "cell_type": "code",
   "execution_count": 68,
   "id": "08df3072",
   "metadata": {},
   "outputs": [
    {
     "name": "stdout",
     "output_type": "stream",
     "text": [
      "Classification: NOTIFY. This email will be notified.\n"
     ]
    }
   ],
   "source": [
    "email_input = {\n",
    "    \"author\": \"System Admin <sysadmin@company.com>\",\n",
    "    \"to\": \"Development Team <dev@company.com>\",\n",
    "    \"subject\": \"Scheduled maintenance - database downtime\",\n",
    "    \"email_thread\": \"Hi team,\\n\\nThis is a reminder that we'll be performing scheduled maintenance on the production database tonight from 2AM to 4AM EST. During this time, all database services will be unavailable.\\n\\nPlease plan your work accordingly and ensure no critical deployments are scheduled during this window.\\n\\nThanks,\\nSystem Admin Team\"\n",
    "}\n",
    "\n",
    "# Run the agent\n",
    "response = overall_workflow.invoke({\"email_input\": email_input})\n",
    "for m in response[\"messages\"]:\n",
    "    m.pretty_print()"
   ]
  },
  {
   "cell_type": "code",
   "execution_count": null,
   "id": "54097db9",
   "metadata": {},
   "outputs": [],
   "source": []
  }
 ],
 "metadata": {
  "kernelspec": {
   "display_name": ".venv",
   "language": "python",
   "name": "python3"
  },
  "language_info": {
   "codemirror_mode": {
    "name": "ipython",
    "version": 3
   },
   "file_extension": ".py",
   "mimetype": "text/x-python",
   "name": "python",
   "nbconvert_exporter": "python",
   "pygments_lexer": "ipython3",
   "version": "3.12.7"
  }
 },
 "nbformat": 4,
 "nbformat_minor": 5
}
