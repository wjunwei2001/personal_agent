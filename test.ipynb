{
 "cells": [
  {
   "cell_type": "code",
   "execution_count": 1,
   "id": "c721bc64",
   "metadata": {},
   "outputs": [],
   "source": [
    "from typing import Annotated\n",
    "\n",
    "from typing_extensions import TypedDict\n",
    "\n",
    "from langgraph.graph import StateGraph, START, END\n",
    "from langgraph.graph.message import add_messages"
   ]
  },
  {
   "cell_type": "code",
   "execution_count": 2,
   "id": "fe7a6907",
   "metadata": {},
   "outputs": [],
   "source": [
    "class State(TypedDict):\n",
    "    messages: Annotated[list, add_messages]"
   ]
  },
  {
   "cell_type": "code",
   "execution_count": 14,
   "id": "a77c64f9",
   "metadata": {},
   "outputs": [],
   "source": [
    "import os\n",
    "import json\n",
    "from langchain_openai import ChatOpenAI\n",
    "from langchain_tavily import TavilySearch\n",
    "from langchain_core.messages import ToolMessage\n",
    "\n",
    "OPENAI_API_KEY = os.getenv(\"OPENAI_API_KEY\")\n",
    "TAVILY_API_KEY = os.getenv(\"TAVILY_API_KEY\")"
   ]
  },
  {
   "cell_type": "code",
   "execution_count": 15,
   "id": "78806959",
   "metadata": {},
   "outputs": [],
   "source": [
    "tool = TavilySearch(max_results=2)\n",
    "tools = [tool]\n",
    "\n",
    "llm = ChatOpenAI(model=\"gpt-4.1\", openai_api_key=OPENAI_API_KEY)\n",
    "llm_with_tools = llm.bind_tools(tools)"
   ]
  },
  {
   "cell_type": "code",
   "execution_count": 16,
   "id": "fcd52bed",
   "metadata": {},
   "outputs": [],
   "source": [
    "class BasicToolNode:\n",
    "    def __init__(self, tools: list) -> None:\n",
    "        self.tools_by_name = {tool.name: tool for tool in tools}\n",
    "\n",
    "    def __call__(self, inputs: dict):\n",
    "        if (messages := inputs.get(\"messages\")):\n",
    "            message = messages[-1]\n",
    "        else:\n",
    "            raise ValueError(\"No messages found in inputs\")\n",
    "        outputs = []\n",
    "        for tool_call in message.tool_calls:\n",
    "            tool_result = self.tools_by_name[tool_call[\"name\"]].invoke(tool_call[\"args\"])\n",
    "            outputs.append(ToolMessage(\n",
    "                content=json.dumps(tool_result),\n",
    "                name=tool_call[\"name\"],\n",
    "                tool_call_id=tool_call[\"id\"],\n",
    "            ))\n",
    "        return {\"messages\": outputs}\n",
    "        \n",
    "tool_node = BasicToolNode(tools)"
   ]
  },
  {
   "cell_type": "code",
   "execution_count": 17,
   "id": "3b314939",
   "metadata": {},
   "outputs": [],
   "source": [
    "def route_tools(state: State) -> State:\n",
    "    if isinstance(state, list):\n",
    "        ai_message = state[-1]\n",
    "    elif messages := state.get(\"messages\", []):\n",
    "        ai_message = messages[-1]\n",
    "    else:\n",
    "        raise ValueError(\"No AI message found in state\")\n",
    "    if ai_message.tool_calls:\n",
    "        return \"tool_node\"\n",
    "    return END\n"
   ]
  },
  {
   "cell_type": "code",
   "execution_count": 18,
   "id": "9f0b6e51",
   "metadata": {},
   "outputs": [],
   "source": [
    "def chatbot(state: State) -> State:\n",
    "    response = llm.invoke(state[\"messages\"])\n",
    "    return {\"messages\": [response]}\n",
    "\n",
    "\n",
    "graph_builder = StateGraph(State)\n",
    "graph_builder.add_node(\"tool_node\", tool_node)\n",
    "graph_builder.add_node(\"chatbot\", chatbot)\n",
    "graph_builder.add_edge(START, \"chatbot\")\n",
    "graph_builder.add_conditional_edges(\n",
    "    \"chatbot\",\n",
    "    route_tools,\n",
    "    {\"tool_node\": \"tool_node\", END: END},\n",
    ")\n",
    "graph_builder.add_edge(\"tool_node\", \"chatbot\")\n",
    "\n",
    "graph = graph_builder.compile()"
   ]
  },
  {
   "cell_type": "code",
   "execution_count": 19,
   "id": "65f3c4fe",
   "metadata": {},
   "outputs": [
    {
     "data": {
      "image/png": "[encoded data removed]",
      "text/plain": [
       "<IPython.core.display.Image object>"
      ]
     },
     "metadata": {},
     "output_type": "display_data"
    }
   ],
   "source": [
    "from IPython.display import Image, display\n",
    "\n",
    "try:\n",
    "    display(Image(graph.get_graph().draw_mermaid_png()))\n",
    "except Exception:\n",
    "    # This requires some extra dependencies and is optional\n",
    "    pass"
   ]
  },
  {
   "cell_type": "code",
   "execution_count": 20,
   "id": "8c88217c",
   "metadata": {},
   "outputs": [
    {
     "name": "stdout",
     "output_type": "stream",
     "text": [
      "assistant:  **LangGraph** and **LangChain** are two frameworks developed in the past year to facilitate interaction with and orchestration of Large Language Models (LLMs), particularly to build complex, multi-step, and multi-agent workflows. They compete (and sometimes complement) with other orchestration frameworks and agentic toolkits such as:\n",
      "\n",
      "- **LlamaIndex**\n",
      "- **Guardrails.ai**\n",
      "- **Haystack**\n",
      "- **CrewAI**\n",
      "- **OpenAI Functions / Assistant API**\n",
      "- **Autogen** (Microsoft)\n",
      "- **Semantic Kernel** (Microsoft)\n",
      "- **Flowise**\n",
      "- **Dust.tt**\n",
      "- **DSPy**\n",
      "\n",
      "Let's break down the current **industry adoption** of LangGraph and LangChain in this broader context.\n",
      "\n",
      "---\n",
      "\n",
      "## **LangChain**\n",
      "\n",
      "### **Adoption**\n",
      "- **LangChain** is arguably the most widely adopted orchestration framework for LLMs as of early 2024.\n",
      "- **Backing & Community**: It has strong VC funding, extensive open-source community support, and a vast ecosystem of plugins, integrations, and tutorials.\n",
      "- **Industry Use**: Startups, research labs, and some enterprise prototypes use LangChain for building RAG (Retrieval-Augmented Generation) systems, chatbots, document Q&A, and workflow automation.\n",
      "- **Cloud Integration**: Providers like AWS, Azure, Pinecone, and Cohere all support/recommend LangChain with recipes and services.\n",
      "- **Criticism**: Some in the ML community point to complexity and maintainability concerns for production deployments at scale, but its feature-richness is hard to match.\n",
      "\n",
      "## **LangGraph**\n",
      "\n",
      "### **About**\n",
      "- **LangGraph** is built by the same team as LangChain, but focuses on explicitly modeling multi-step LLM workflows as graphs, especially for agent and multi-agent use cases.\n",
      "- It's newer (released late 2023). Compared to LangChain’s chains (linear/callable workflows), LangGraph supports arbitrarily complex graphs and state transitions, enabling agent-swarm and collaborative LLM scenarios.\n",
      "\n",
      "### **Adoption**\n",
      "- **Nascent but growing**: As released after LangChain’s initial surge, adoption is still emerging.\n",
      "- **Research and Advanced Prototyping**: Early adopters are typically researchers and advanced ML engineering teams looking to go beyond simple RAG to multi-agent, stateful, or collaborative AI applications.\n",
      "- **Ecosystem**: Adoption is mostly amongst existing LangChain community members; it’s seen as an “advanced extension” or a “power tool” for those already familiar with LangChain.\n",
      "- **Enterprise**: As enterprises begin implementing multi-agent processes (e.g., collaborative document review, automated workflows), interest in LangGraph is expected to grow through 2024.\n",
      "- **Benchmarks**: No clear industry-wide benchmarks yet; most commercial deployments still use LangChain or simpler frameworks.\n",
      "\n",
      "---\n",
      "\n",
      "## **How They Compare to Other Frameworks**\n",
      "\n",
      "- **LlamaIndex & Haystack**: These focus more on data pipelines/RAG; popular for RAG-heavy workloads but less rich in agentic orchestration than LangChain/LangGraph.\n",
      "- **CrewAI, Autogen, Semantic Kernel**: These are fast-evolving alternatives for multi-agent/task decomposition orchestration, gaining traction in certain niches (Microsoft ecosystem in particular for SK/Autogen).\n",
      "- **LangChain’s Position**: Remains the “default” for prototyping and early-stage apps; most hobbyist and early-stage production use.\n",
      "- **Caveats**: There is fragmentation and churn; production users often build custom orchestration layers or combine these frameworks.\n",
      "\n",
      "---\n",
      "\n",
      "## **Summary Table**\n",
      "\n",
      "| Framework    | Industry Adoption (2024)     | Use Cases                               | Maturity  |\n",
      "|--------------|-----------------------------|-----------------------------------------|-----------|\n",
      "| **LangChain**   | High (most popular)           | RAG, chatbots, workflow orchestration  | High      |\n",
      "| **LangGraph**   | Early adopters, growing       | Multi-agent, complex workflows          | Emerging  |\n",
      "| LlamaIndex   | Growing                        | RAG, data pipelines                     | High      |\n",
      "| Haystack     | Niche but steady                | RAG, search                             | Moderate  |\n",
      "| CrewAI       | Niche/early adopter             | Multi-agent, task-based workflows       | Emerging  |\n",
      "| Autogen/SK   | Growing (enterprise)            | LLM agents (MSFT-heavy)                 | Growing   |\n",
      "\n",
      "---\n",
      "\n",
      "## **References & Resources**\n",
      "\n",
      "- [LangChain Documentation](https://python.langchain.com/)\n",
      "- [LangGraph Introduction](https://blog.langchain.dev/announcing-langgraph/)\n",
      "- [LlamaIndex vs LangChain](https://blog.llamaindex.ai/langchain-vs-llamaindex-a-comparison/)\n",
      "- [AI Orchestration Frameworks — Market Overview (Aleksa Gordić / TheSequence)](https://thesequence.substack.com/p/ai-orchestration-frameworks)\n",
      "- [State of LLM Orchestration (2024)](https://github.com/eugeneyan/llm-orchestration)\n",
      "\n",
      "---\n",
      "\n",
      "## **Conclusion**\n",
      "\n",
      "- **LangChain** is the industry standard for LLM orchestration, with broad adoption and extensive documentation.\n",
      "- **LangGraph** is a promising, newer evolution aimed at multi-agent and complex workflow use cases—adoption is early and mostly among advanced users, but interest is increasing.\n",
      "- The ecosystem is rapidly evolving; production users often mix frameworks or roll custom solutions.\n",
      "- Over the next 12–18 months, expect increasing LangGraph adoption as workflows grow more sophisticated and as more enterprises embrace agent-based architectures.\n",
      "\n",
      "**Let me know if you need adoption case studies, technical comparisons, or guidance on framework selection for a specific use case!**\n",
      "Exiting...\n"
     ]
    }
   ],
   "source": [
    "def stream_chatbot(user_input:str):\n",
    "    for event in graph.stream({\"messages\": [{\"role\": \"user\", \"content\": user_input}]}):\n",
    "        for value in event.values():\n",
    "            print(\"assistant: \", value[\"messages\"][-1].content)\n",
    "\n",
    "while True:\n",
    "    try: \n",
    "        user_input = input(\"User: \")\n",
    "        if user_input.lower() in [\"exit\", \"quit\"]:\n",
    "            print(\"Exiting...\")\n",
    "            break\n",
    "        stream_chatbot(user_input)\n",
    "\n",
    "    except:\n",
    "        user_input = \"User: How is the industry adoption of LangGraph and LangChain?\"\n",
    "        print(user_input)\n",
    "        stream_chatbot(user_input)\n",
    "        break\n"
   ]
  },
  {
   "cell_type": "code",
   "execution_count": null,
   "id": "979b8920",
   "metadata": {},
   "outputs": [],
   "source": []
  }
 ],
 "metadata": {
  "kernelspec": {
   "display_name": ".venv",
   "language": "python",
   "name": "python3"
  },
  "language_info": {
   "codemirror_mode": {
    "name": "ipython",
    "version": 3
   },
   "file_extension": ".py",
   "mimetype": "text/x-python",
   "name": "python",
   "nbconvert_exporter": "python",
   "pygments_lexer": "ipython3",
   "version": "3.12.7"
  }
 },
 "nbformat": 4,
 "nbformat_minor": 5
}
